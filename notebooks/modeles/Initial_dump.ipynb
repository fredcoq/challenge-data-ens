{
 "cells": [
  {
   "cell_type": "code",
   "execution_count": 1,
   "metadata": {
    "collapsed": true
   },
   "outputs": [],
   "source": [
    "import pandas as pd"
   ]
  },
  {
   "cell_type": "markdown",
   "source": [
    "# Initial Serialization"
   ],
   "metadata": {
    "collapsed": false
   }
  },
  {
   "cell_type": "code",
   "execution_count": 2,
   "outputs": [],
   "source": [
    "\n",
    "X_train=pd.read_csv('..\\\\..\\\\datasets\\\\training_input_qFI2jug.csv', index_col=\"Horodate_UTC\",parse_dates=['Horodate_UTC'],dayfirst=True)\n",
    "feature_list=list(X_train.columns[3:])\n",
    "X_train.index = pd.DatetimeIndex(X_train.index)\n",
    "\n",
    "X_train['timestamp']=pd.to_datetime(X_train.index)\n",
    "\n",
    "X_train.to_pickle(\".&.\\\\..\\\\datasets\\\\dumps\\\\X_train.pkl\")"
   ],
   "metadata": {
    "collapsed": false,
    "pycharm": {
     "name": "#%%\n"
    }
   }
  },
  {
   "cell_type": "code",
   "execution_count": 3,
   "outputs": [],
   "source": [
    "X_test=pd.read_csv('..\\\\..\\\\datasets\\\\testing_input_BcjTmnd.csv',index_col=\"Horodate_UTC\",parse_dates=['Horodate_UTC'],dayfirst=True)\n",
    "X_test.index = pd.DatetimeIndex(X_test.index)\n",
    "\n",
    "X_test['timestamp']=pd.to_datetime(X_test.index)\n",
    "\n",
    "X_train.to_pickle(\"..\\\\..\\\\datasets\\\\dumps\\\\X_test.pkl\")"
   ],
   "metadata": {
    "collapsed": false,
    "pycharm": {
     "name": "#%%\n"
    }
   }
  },
  {
   "cell_type": "code",
   "execution_count": 4,
   "outputs": [],
   "source": [
    "y_train=pd.read_csv('..\\\\..\\\\datasets\\\\training_output_uamzSZW.csv',index_col=\"Horodate_UTC\",parse_dates=['Horodate_UTC'],dayfirst=True)\n",
    "y_train.index = pd.DatetimeIndex(y_train.index)\n",
    "\n",
    "y_train['timestamp']=pd.to_datetime(y_train.index)\n",
    "\n",
    "X_train.to_pickle(\"..\\\\..\\\\datasets\\\\dumps\\\\y_train.pkl\")"
   ],
   "metadata": {
    "collapsed": false,
    "pycharm": {
     "name": "#%%\n"
    }
   }
  }
 ],
 "metadata": {
  "kernelspec": {
   "display_name": "Python 3",
   "language": "python",
   "name": "python3"
  },
  "language_info": {
   "codemirror_mode": {
    "name": "ipython",
    "version": 2
   },
   "file_extension": ".py",
   "mimetype": "text/x-python",
   "name": "python",
   "nbconvert_exporter": "python",
   "pygments_lexer": "ipython2",
   "version": "2.7.6"
  }
 },
 "nbformat": 4,
 "nbformat_minor": 0
}