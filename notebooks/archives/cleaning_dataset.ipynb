{
 "cells": [
  {
   "cell_type": "code",
   "execution_count": 10,
   "outputs": [
    {
     "data": {
      "text/plain": "                     IDS                   Horodate  Mois  Injection RTE (W)  \\\nHorodate_UTC                                                                   \n2013-10-13 22:00:00    1  2013-10-13T00:00:00+02:00    10        39784230000   \n2013-10-13 22:30:00    2  2013-10-13T00:30:00+02:00    10        37114681000   \n2013-10-13 23:00:00    3  2013-10-13T01:00:00+02:00    10        36148675000   \n2013-10-13 23:30:00    4  2013-10-13T01:30:00+02:00    10        35488831000   \n2013-10-14 00:00:00    5  2013-10-13T02:00:00+02:00    10        34882911000   \n\n                     Refoulement RTE (W)  Pertes modélisées (W)  \\\nHorodate_UTC                                                      \n2013-10-13 22:00:00            103415000             2849582877   \n2013-10-13 22:30:00            119543000             2603906116   \n2013-10-13 23:00:00            136447000             2516689035   \n2013-10-13 23:30:00            164083000             2457628530   \n2013-10-14 00:00:00            191859000             2403762298   \n\n                     Consommations totale (W)  \\\nHorodate_UTC                                    \n2013-10-13 22:00:00               37576289504   \n2013-10-13 22:30:00               35230706411   \n2013-10-13 23:00:00               34428316838   \n2013-10-13 23:30:00               33922151279   \n2013-10-14 00:00:00               33447730318   \n\n                     Consommation HTA télérelevée à courbe de charge (W)  \\\nHorodate_UTC                                                               \n2013-10-13 22:00:00                                         8062590100     \n2013-10-13 22:30:00                                         8023402840     \n2013-10-13 23:00:00                                         7982839990     \n2013-10-13 23:30:00                                         7953531370     \n2013-10-14 00:00:00                                         7922448360     \n\n                     Consommation totale profilée (W)  \\\nHorodate_UTC                                            \n2013-10-13 22:00:00                       29513699404   \n2013-10-13 22:30:00                       27207303571   \n2013-10-13 23:00:00                       26445476848   \n2013-10-13 23:30:00                       25968619909   \n2013-10-14 00:00:00                       25525281958   \n\n                     Consommation HTA profilée (W)  ...  \\\nHorodate_UTC                                        ...   \n2013-10-13 22:00:00                     1009515939  ...   \n2013-10-13 22:30:00                     1007708541  ...   \n2013-10-13 23:00:00                      966660739  ...   \n2013-10-13 23:30:00                      929311479  ...   \n2013-10-14 00:00:00                      907509517  ...   \n\n                     Température normale lissée (°Celcius)  \\\nHorodate_UTC                                                 \n2013-10-13 22:00:00                                   13.5   \n2013-10-13 22:30:00                                   13.5   \n2013-10-13 23:00:00                                   13.5   \n2013-10-13 23:30:00                                   13.5   \n2013-10-14 00:00:00                                   13.5   \n\n                     Production éolienne totale (W)  \\\nHorodate_UTC                                          \n2013-10-13 22:00:00                     302936853.0   \n2013-10-13 22:30:00                     368725682.0   \n2013-10-13 23:00:00                     448572685.0   \n2013-10-13 23:30:00                     550243295.0   \n2013-10-14 00:00:00                     644783673.0   \n\n                     Production photovoltaïque totale (W)  Pseudo rayonnement  \\\nHorodate_UTC                                                                    \n2013-10-13 22:00:00                               19660.0                 NaN   \n2013-10-13 22:30:00                               17004.0                 NaN   \n2013-10-13 23:00:00                               24299.0                 NaN   \n2013-10-13 23:30:00                               23308.0                 NaN   \n2013-10-14 00:00:00                               21963.0                 NaN   \n\n                     Consommation HTA totale (W)  \\\nHorodate_UTC                                       \n2013-10-13 22:00:00                   9072106039   \n2013-10-13 22:30:00                   9031111381   \n2013-10-13 23:00:00                   8949500729   \n2013-10-13 23:30:00                   8882842849   \n2013-10-14 00:00:00                   8829957877   \n\n                     Soutirage net vers autres GRD (W)  temp_neg  temp_froid  \\\nHorodate_UTC                                                                   \n2013-10-13 22:00:00                          436423300     False        True   \n2013-10-13 22:30:00                          407924660     False        True   \n2013-10-13 23:00:00                          398239990     False        True   \n2013-10-13 23:30:00                          380571680     False        True   \n2013-10-14 00:00:00                          367153030     False        True   \n\n                     temp_doux  temp_chaud  \nHorodate_UTC                                \n2013-10-13 22:00:00      False       False  \n2013-10-13 22:30:00      False       False  \n2013-10-13 23:00:00      False       False  \n2013-10-13 23:30:00      False       False  \n2013-10-14 00:00:00      False       False  \n\n[5 rows x 29 columns]",
      "text/html": "<div>\n<style scoped>\n    .dataframe tbody tr th:only-of-type {\n        vertical-align: middle;\n    }\n\n    .dataframe tbody tr th {\n        vertical-align: top;\n    }\n\n    .dataframe thead th {\n        text-align: right;\n    }\n</style>\n<table border=\"1\" class=\"dataframe\">\n  <thead>\n    <tr style=\"text-align: right;\">\n      <th></th>\n      <th>IDS</th>\n      <th>Horodate</th>\n      <th>Mois</th>\n      <th>Injection RTE (W)</th>\n      <th>Refoulement RTE (W)</th>\n      <th>Pertes modélisées (W)</th>\n      <th>Consommations totale (W)</th>\n      <th>Consommation HTA télérelevée à courbe de charge (W)</th>\n      <th>Consommation totale profilée (W)</th>\n      <th>Consommation HTA profilée (W)</th>\n      <th>...</th>\n      <th>Température normale lissée (°Celcius)</th>\n      <th>Production éolienne totale (W)</th>\n      <th>Production photovoltaïque totale (W)</th>\n      <th>Pseudo rayonnement</th>\n      <th>Consommation HTA totale (W)</th>\n      <th>Soutirage net vers autres GRD (W)</th>\n      <th>temp_neg</th>\n      <th>temp_froid</th>\n      <th>temp_doux</th>\n      <th>temp_chaud</th>\n    </tr>\n    <tr>\n      <th>Horodate_UTC</th>\n      <th></th>\n      <th></th>\n      <th></th>\n      <th></th>\n      <th></th>\n      <th></th>\n      <th></th>\n      <th></th>\n      <th></th>\n      <th></th>\n      <th></th>\n      <th></th>\n      <th></th>\n      <th></th>\n      <th></th>\n      <th></th>\n      <th></th>\n      <th></th>\n      <th></th>\n      <th></th>\n      <th></th>\n    </tr>\n  </thead>\n  <tbody>\n    <tr>\n      <td>2013-10-13 22:00:00</td>\n      <td>1</td>\n      <td>2013-10-13T00:00:00+02:00</td>\n      <td>10</td>\n      <td>39784230000</td>\n      <td>103415000</td>\n      <td>2849582877</td>\n      <td>37576289504</td>\n      <td>8062590100</td>\n      <td>29513699404</td>\n      <td>1009515939</td>\n      <td>...</td>\n      <td>13.5</td>\n      <td>302936853.0</td>\n      <td>19660.0</td>\n      <td>NaN</td>\n      <td>9072106039</td>\n      <td>436423300</td>\n      <td>False</td>\n      <td>True</td>\n      <td>False</td>\n      <td>False</td>\n    </tr>\n    <tr>\n      <td>2013-10-13 22:30:00</td>\n      <td>2</td>\n      <td>2013-10-13T00:30:00+02:00</td>\n      <td>10</td>\n      <td>37114681000</td>\n      <td>119543000</td>\n      <td>2603906116</td>\n      <td>35230706411</td>\n      <td>8023402840</td>\n      <td>27207303571</td>\n      <td>1007708541</td>\n      <td>...</td>\n      <td>13.5</td>\n      <td>368725682.0</td>\n      <td>17004.0</td>\n      <td>NaN</td>\n      <td>9031111381</td>\n      <td>407924660</td>\n      <td>False</td>\n      <td>True</td>\n      <td>False</td>\n      <td>False</td>\n    </tr>\n    <tr>\n      <td>2013-10-13 23:00:00</td>\n      <td>3</td>\n      <td>2013-10-13T01:00:00+02:00</td>\n      <td>10</td>\n      <td>36148675000</td>\n      <td>136447000</td>\n      <td>2516689035</td>\n      <td>34428316838</td>\n      <td>7982839990</td>\n      <td>26445476848</td>\n      <td>966660739</td>\n      <td>...</td>\n      <td>13.5</td>\n      <td>448572685.0</td>\n      <td>24299.0</td>\n      <td>NaN</td>\n      <td>8949500729</td>\n      <td>398239990</td>\n      <td>False</td>\n      <td>True</td>\n      <td>False</td>\n      <td>False</td>\n    </tr>\n    <tr>\n      <td>2013-10-13 23:30:00</td>\n      <td>4</td>\n      <td>2013-10-13T01:30:00+02:00</td>\n      <td>10</td>\n      <td>35488831000</td>\n      <td>164083000</td>\n      <td>2457628530</td>\n      <td>33922151279</td>\n      <td>7953531370</td>\n      <td>25968619909</td>\n      <td>929311479</td>\n      <td>...</td>\n      <td>13.5</td>\n      <td>550243295.0</td>\n      <td>23308.0</td>\n      <td>NaN</td>\n      <td>8882842849</td>\n      <td>380571680</td>\n      <td>False</td>\n      <td>True</td>\n      <td>False</td>\n      <td>False</td>\n    </tr>\n    <tr>\n      <td>2013-10-14 00:00:00</td>\n      <td>5</td>\n      <td>2013-10-13T02:00:00+02:00</td>\n      <td>10</td>\n      <td>34882911000</td>\n      <td>191859000</td>\n      <td>2403762298</td>\n      <td>33447730318</td>\n      <td>7922448360</td>\n      <td>25525281958</td>\n      <td>907509517</td>\n      <td>...</td>\n      <td>13.5</td>\n      <td>644783673.0</td>\n      <td>21963.0</td>\n      <td>NaN</td>\n      <td>8829957877</td>\n      <td>367153030</td>\n      <td>False</td>\n      <td>True</td>\n      <td>False</td>\n      <td>False</td>\n    </tr>\n  </tbody>\n</table>\n<p>5 rows × 29 columns</p>\n</div>"
     },
     "metadata": {},
     "output_type": "execute_result",
     "execution_count": 10
    }
   ],
   "source": [
    "import pandas as pd\n",
    "\n",
    "x_train=pd.read_csv('..\\\\..\\\\datasets\\\\training_input_qFI2jug.csv', index_col=\"Horodate_UTC\",parse_dates=['Horodate_UTC'], dayfirst=True)\n",
    "x_train.index = pd.DatetimeIndex(x_train.index)\n",
    "\n",
    "x_train.head()\n",
    "\n",
    "temp = x_train.iloc[0:,18:19]\n",
    "temp.head()\n",
    "\n",
    "def weather(df):\n",
    "    \n",
    "    df['negative'] = df.iloc[0:,18:19] < 0\n",
    "    df['cold_weather'] = (df.iloc[0:,18:19] >= 0) & (df.iloc[0:,18:19] < 15)\n",
    "    df['nice_weather'] = (df.iloc[0:,18:19] >= 15) & (df.iloc[0:,18:19] < 25)\n",
    "    df['hot_weather'] = df.iloc[0:,18:19] >= 25\n",
    "    \n",
    "    return df\n",
    "\n",
    "\n",
    "x_train['negative'] = x_train.iloc[0:,18:19] < 0\n",
    "x_train['cold_weather'] = (x_train.iloc[0:,18:19] >= 0) & (x_train.iloc[0:,18:19] < 15)\n",
    "x_train['nice_weather'] = (x_train.iloc[0:,18:19] >= 15) & (x_train.iloc[0:,18:19] < 25)\n",
    "x_train['hot_weather'] = x_train.iloc[0:,18:19] >= 25\n",
    "# \n",
    "x_train.head()\n",
    "\n",
    "# df = x_train\n",
    "# \n",
    "# df = to_cet(df)\n",
    "# \n",
    "# df.head()\n",
    "\n",
    "\n"
   ],
   "metadata": {
    "collapsed": false,
    "pycharm": {
     "name": "#%%\n",
     "is_executing": false
    }
   }
  },
  {
   "cell_type": "markdown",
   "source": [
    "I think, We need to use the pseudo radiation column in the time series analysis.\n",
    "And we can drop this column when we will train the model.\n"
   ],
   "metadata": {
    "collapsed": false
   }
  },
  {
   "cell_type": "code",
   "execution_count": null,
   "outputs": [],
   "source": [
    "# Define helper function\n",
    "# def fill_missing(grp):\n",
    "#     res = grp.set_index('date')\\\n",
    "#     .interpolate(method='linear',limit=5)\\\n",
    "#     .ffill()\\\n",
    "#     .bfill()\n",
    "#     del res['Pseudo rayonnement']\n",
    "#     return res# Group by country name and fill missing\n",
    "# \n",
    "# df = x_train\n",
    "# \n",
    "# df['dt_Horodate_UTC'] = pd.to_datetime(df['Horodate_UTC'], infer_datetime_format=True)\n",
    "# \n",
    "# df['date'] = df['dt_Horodate_UTC'].map(lambda x: x.strftime('%d/%m %H:%S'))\n",
    "# \n",
    "# df = df.groupby(['Pseudo rayonnement']).apply(\n",
    "#     lambda grp: fill_missing(grp)\n",
    "# )\n",
    "# \n",
    "# df = df.reset_index()\n",
    "\n",
    "df = x_train.copy()\n",
    "\n",
    "import seaborn as sb\n",
    "import matplotlib.pyplot as plt\n",
    "%matplotlib inline\n",
    "\n",
    "sb.heatmap(df.isnull(), cbar=False)\n",
    "plt.show()\n"
   ],
   "metadata": {
    "collapsed": false,
    "pycharm": {
     "name": "#%%\n",
     "is_executing": true
    }
   }
  },
  {
   "cell_type": "code",
   "execution_count": null,
   "outputs": [],
   "source": [
    "# from sklearn.linear_model import LinearRegression\n",
    "# from sklearn.model_selection import train_test_split\n",
    "# from sklearn.preprocessing import Imputer\n",
    "# from sklearn.pipeline import Pipeline\n",
    "# imp=Imputer(missing_values=\"NaN\", strategy=\"mean\", axis=0)\n",
    "# linmodel = LinearRegression()\n",
    "# steps=[('imputation',imp),('linear_regression',linmodel)]\n",
    "# pipeline=Pipeline(steps)\n",
    "# X_train, X_test, Y_train, Y_test=train_test_split(X, y, test_size=0.3, random_state=42)\n",
    "# pipeline.fit(X_train, Y_train)\n",
    "# y_pred=pipeline.predict(X_test)\n",
    "# pipeline.score(X_test, Y_test)\n",
    "\n",
    "# from sklearn.neighbors import KNeighborsClassifier\n",
    "# from sklearn.model_selection import train_test_split\n",
    "# from sklearn.preprocessing import Imputer\n",
    "# from sklearn.pipeline import Pipeline\n",
    "# \n",
    "# k_range=range(1,26)\n",
    "# \n",
    "# for k in k_range:\n",
    "#     imp=Imputer(missing_values=\"NaN\", strategy=\"mean\", axis=0)\n",
    "#     knn=KNeighborsClassifier(n_neighbors=k)\n",
    "#     steps=[('imputation',imp),('K-Nearest Neighbor',knn)]\n",
    "#     pipeline=Pipeline(steps)\n",
    "#     X_train, X_test, Y_train, Y_test=train_test_split(X, y, test_size=0.3, random_state=42)\n",
    "#     pipeline.fit(X_train, Y_train)\n",
    "#     y_pred=pipeline.predict(X_test)\n",
    "#     pipeline.score(X_test, Y_test)\n",
    "\n",
    "liste_dates = df.index.tolist()\n",
    "for dt in liste_dates :\n",
    "    df.at[dt, 'day'] = dt.strftime('%d/%m %H:%M')\n",
    "    \n",
    "\n",
    "df_month = df.sort_values(by='day', ascending=True)\n",
    "df_month.head(20)\n",
    "df_month = df_month.interpolate(str=\"linear\", axis=0).ffill().bfill()\n",
    "df_month = df_month.sort_values(by='IDS', ascending=True)\n",
    "\n",
    "# if 'day' in x_train.columns:\n",
    "#     x_train.drop('day', axis=1, inplace=True)\n",
    "\n",
    "x_train['Pseudo rayonnement'] = df_month['Pseudo rayonnement']\n",
    "\n",
    "x_train.head(20)\n"
   ],
   "metadata": {
    "collapsed": false,
    "pycharm": {
     "name": "#%%\n",
     "is_executing": true
    }
   }
  },
  {
   "cell_type": "code",
   "execution_count": null,
   "outputs": [],
   "source": [
    "df = x_train.drop(['IDS', 'Horodate', 'Mois'], axis=1)\n"
   ],
   "metadata": {
    "collapsed": false,
    "pycharm": {
     "name": "#%%\n",
     "is_executing": true
    }
   }
  },
  {
   "cell_type": "code",
   "execution_count": null,
   "outputs": [],
   "source": [
    "from code.dataviz import data_slice,data_timeplot,data_slice_year,data_slice_date\n",
    "from sklearn.cluster import KMeans\n",
    "from scipy.cluster.hierarchy import dendrogram,linkage\n",
    "from sklearn import preprocessing\n",
    "\n",
    "scaler = preprocessing.MinMaxScaler()\n",
    "\n",
    "x_train_scaled = pd.DataFrame(scaler.fit_transform(df),columns=df.columns)\n",
    "\n",
    "# Algorithme de K-means\n",
    "kmeans = KMeans(n_clusters = 45)\n",
    "kmeans.fit(x_train_scaled)\n",
    "\n",
    "# Centroids and labels\n",
    "centroids = kmeans.cluster_centers_\n",
    "labels = kmeans.labels_\n",
    "\n",
    "df['centroids'] = labels\n"
   ],
   "metadata": {
    "collapsed": false,
    "pycharm": {
     "name": "#%%\n",
     "is_executing": true
    }
   }
  },
  {
   "cell_type": "code",
   "execution_count": null,
   "outputs": [],
   "source": [
    "plt.figure(figsize=(10, 10))\n",
    "\n",
    "# Génération de la matrice des liens\n",
    "\n",
    "Z = linkage(centroids, method = 'ward', metric = 'euclidean')\n",
    "\n",
    "\n",
    "plt.title(\"Dendrogramme kmeans\")\n",
    "\n",
    "dendrogram(Z, labels = labels, leaf_rotation = 90., color_threshold = 0)\n",
    "\n",
    "plt.show()"
   ],
   "metadata": {
    "collapsed": false,
    "pycharm": {
     "name": "#%%\n",
     "is_executing": true
    }
   }
  },
  {
   "cell_type": "code",
   "execution_count": null,
   "outputs": [],
   "source": [
    "from sklearn.cluster import AgglomerativeClustering\n",
    "\n",
    "cluster = AgglomerativeClustering(n_clusters = 7)\n",
    "\n",
    "\n"
   ],
   "metadata": {
    "collapsed": false,
    "pycharm": {
     "name": "#%%\n",
     "is_executing": true
    }
   }
  },
  {
   "cell_type": "code",
   "execution_count": null,
   "outputs": [],
   "source": [
    "# Apprentissage des données \n",
    "\n",
    "cluster.fit(x_train_scaled)\n",
    "\n",
    "labels = cluster.labels_\n",
    "\n",
    "df['cah'] = cluster.labels_\n",
    "\n",
    "centroids_cah = df.drop(['centroids'], axis=1).groupby(['cah']).mean()\n",
    "\n",
    "kmeans = KMeans(n_clusters = 7, init=centroids_cah, n_init=1)\n",
    "\n",
    "kmeans.fit(x_train_scaled)\n",
    "\n",
    "centroids = kmeans.cluster_centers_\n",
    "\n",
    "km_labels = kmeans.labels_\n"
   ],
   "metadata": {
    "collapsed": false,
    "pycharm": {
     "name": "#%%\n",
     "is_executing": true
    }
   }
  },
  {
   "cell_type": "code",
   "execution_count": null,
   "outputs": [],
   "source": [
    "# from sklearn.metrics import silhouette_score\n",
    "# \n",
    "# range_n_clusters = [2, 3, 4, 5, 6, 7, 8, 9, 10]\n",
    "# \n",
    "# s_scores = []\n",
    "# \n",
    "# for n_clusters in range_n_clusters :\n",
    "#     cluster = AgglomerativeClustering(n_clusters = n_clusters)\n",
    "#     cluster.fit(df)\n",
    "#     labels = cluster.labels_\n",
    "#     \n",
    "#     s_score = silhouette_score(df, labels, metric='sqeuclidean')\n",
    "#     s_scores.append(s_score)\n"
   ],
   "metadata": {
    "collapsed": false,
    "pycharm": {
     "name": "#%%\n",
     "is_executing": true
    }
   }
  },
  {
   "cell_type": "code",
   "execution_count": null,
   "outputs": [],
   "source": [
    "# plt.plot(range_n_clusters, s_scores, 'bo-')\n",
    "# plt.title('Graphique du coefficient de silhouette en fonction du nombre de clusters')\n",
    "# plt.xlabel('Nombre de clusters')\n",
    "# plt.ylabel('Coefficient de silhouette')\n",
    "# plt.show()\n",
    "\n"
   ],
   "metadata": {
    "collapsed": false,
    "pycharm": {
     "name": "#%%\n",
     "is_executing": true
    }
   }
  }
 ],
 "metadata": {
  "kernelspec": {
   "display_name": "Python 3",
   "language": "python",
   "name": "python3"
  },
  "language_info": {
   "codemirror_mode": {
    "name": "ipython",
    "version": 2
   },
   "file_extension": ".py",
   "mimetype": "text/x-python",
   "name": "python",
   "nbconvert_exporter": "python",
   "pygments_lexer": "ipython2",
   "version": "2.7.6"
  },
  "pycharm": {
   "stem_cell": {
    "cell_type": "raw",
    "source": [],
    "metadata": {
     "collapsed": false
    }
   }
  }
 },
 "nbformat": 4,
 "nbformat_minor": 0
}