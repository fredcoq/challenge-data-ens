{
  "cells": [
    {
      "cell_type": "markdown",
      "metadata": {
        "id": "view-in-github",
        "colab_type": "text"
      },
      "source": [
        "<a href=\"https://colab.research.google.com/github/fredcoq/challenge-data-ens/blob/master/demo_scikit_learn_array_api.ipynb\" target=\"_parent\"><img src=\"https://colab.research.google.com/assets/colab-badge.svg\" alt=\"Open In Colab\"/></a>"
      ]
    },
    {
      "cell_type": "code",
      "execution_count": null,
      "metadata": {
        "id": "jw3UaYUUWy6N"
      },
      "outputs": [],
      "source": [
        "!pip install -U -q scikit-learn array_api_compat"
      ]
    },
    {
      "cell_type": "code",
      "execution_count": null,
      "metadata": {
        "id": "eNmqTHcxXQK2"
      },
      "outputs": [],
      "source": [
        "from sklearn.datasets import make_regression\n",
        "\n",
        "X, y = make_regression(\n",
        "    n_samples=1_000_000, noise=50.0, random_state=42\n",
        ")\n",
        "X, y = X.astype(\"float32\"), y.astype(\"float32\")"
      ]
    },
    {
      "cell_type": "code",
      "execution_count": null,
      "metadata": {
        "id": "VYlncWaIYYTK"
      },
      "outputs": [],
      "source": [
        "import sklearn\n",
        "from sklearn.decomposition import PCA\n",
        "from sklearn.linear_model import Ridge\n",
        "from sklearn.pipeline import make_pipeline\n",
        "from sklearn.model_selection import train_test_split\n",
        "from sklearn.metrics import r2_score\n",
        "\n",
        "model = make_pipeline(PCA(svd_solver=\"full\"), Ridge(solver=\"svd\"))"
      ]
    },
    {
      "cell_type": "code",
      "source": [
        "%%time\n",
        "\n",
        "X_train, X_test, y_train, y_test = train_test_split(\n",
        "  X, y, random_state=42\n",
        ")\n",
        "\n",
        "model.fit(X_train, y_train)\n",
        "y_pred = model.predict(X_test)\n",
        "print(f\"R2 score: {r2_score(y_test, y_pred):.2f}\")"
      ],
      "metadata": {
        "colab": {
          "base_uri": "https://localhost:8080/"
        },
        "id": "m7bGsW5cOqm-",
        "outputId": "f4a78d0d-6618-4f78-f3df-eb854713a77b"
      },
      "execution_count": null,
      "outputs": [
        {
          "output_type": "stream",
          "name": "stdout",
          "text": [
            "R2 score: 0.93\n",
            "CPU times: user 36 s, sys: 2.94 s, total: 38.9 s\n",
            "Wall time: 32.5 s\n"
          ]
        }
      ]
    },
    {
      "cell_type": "code",
      "source": [
        "import torch\n",
        "\n",
        "X, y = make_regression(\n",
        "  n_samples=1_000_000, noise=50.0, random_state=42\n",
        ")\n",
        "X = torch.asarray(X, device=\"cuda\", dtype=torch.float32)\n",
        "y = torch.asarray(y, device=\"cuda\", dtype=torch.float32)"
      ],
      "metadata": {
        "id": "diA-KHKyOueg"
      },
      "execution_count": null,
      "outputs": []
    },
    {
      "cell_type": "code",
      "source": [
        "%%time\n",
        "with sklearn.config_context(array_api_dispatch=True):\n",
        "    X_train, X_test, y_train, y_test = train_test_split(\n",
        "      X, y, random_state=42\n",
        "    )\n",
        "\n",
        "    model.fit(X_train, y_train)\n",
        "    y_pred = model.predict(X_test)\n",
        "    print(f\"R2 score: {r2_score(y_test, y_pred):.2f}\")"
      ],
      "metadata": {
        "colab": {
          "base_uri": "https://localhost:8080/"
        },
        "id": "OzhOLMwzPJR3",
        "outputId": "a2388d9c-b38c-4b6f-e347-cd550189ff8c"
      },
      "execution_count": null,
      "outputs": [
        {
          "output_type": "stream",
          "name": "stdout",
          "text": [
            "R2 score: 0.93\n",
            "CPU times: user 1.15 s, sys: 200 ms, total: 1.35 s\n",
            "Wall time: 1.35 s\n"
          ]
        }
      ]
    },
    {
      "cell_type": "code",
      "source": [],
      "metadata": {
        "id": "k5K_-HywPQeD"
      },
      "execution_count": null,
      "outputs": []
    }
  ],
  "metadata": {
    "accelerator": "GPU",
    "colab": {
      "gpuType": "T4",
      "provenance": [],
      "include_colab_link": true
    },
    "kernelspec": {
      "display_name": "Python 3",
      "name": "python3"
    },
    "language_info": {
      "name": "python"
    }
  },
  "nbformat": 4,
  "nbformat_minor": 0
}